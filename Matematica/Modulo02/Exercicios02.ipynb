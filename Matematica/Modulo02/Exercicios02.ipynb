{
 "cells": [
  {
   "cell_type": "markdown",
   "metadata": {},
   "source": [
    "# <font color='blue'>Data Science Academy</font>\n",
    "# <font color='blue'>Matemática Para Machine Learning</font>"
   ]
  },
  {
   "cell_type": "markdown",
   "metadata": {},
   "source": [
    "## Lista de Exercícios  - Capítulo 2"
   ]
  },
  {
   "cell_type": "markdown",
   "metadata": {},
   "source": [
    "O objetivo desta lista de exercícios é você praticar os principais conceitos estudados neste capítulo, ao mesmo tempo que desenvolve suas habilidades em lógica de programação com a linguagem Python. \n",
    "\n",
    "Caso tenha dúvidas, isso é absolutamente normal e faça um trabalho de pesquisa a fim de relembrar o formato das operações matemáticas.\n",
    "\n",
    "Quando encontrar o formato de uma operação que resolva o exercício proposto, use a linguagem Python para representar esta operação. Em essência, é assim que aplicamos Matemática Para Machine Learning, construindo algoritmos e representando esses algoritmos em linguagem de programação.\n",
    "\n",
    "Divirta-se!!"
   ]
  },
  {
   "cell_type": "markdown",
   "metadata": {},
   "source": [
    "## Resolvendo Sistemas de Equações em Python"
   ]
  },
  {
   "cell_type": "markdown",
   "metadata": {},
   "source": [
    "Usando numpy, podemos resolver sistemas de equações em Python. Cada equação em um sistema pode ser representada com matrizes. Por exemplo, se tivermos a equação 3x - 9y = -42, ela pode ser representada como [3, -9] e [-42]. Se adicionarmos outra equação, por exemplo, 2x + 4y = 2, podemos mesclar com a equação anterior para obter [[3, -9], [2, 4]] e [-42, 2]. Agora vamos resolver os valores x e y.\n",
    "\n",
    "Primeiro, colocamos essas equações em matrizes numpy:"
   ]
  },
  {
   "cell_type": "code",
   "execution_count": 1,
   "metadata": {},
   "outputs": [],
   "source": [
    "import numpy as np\n",
    "\n",
    "A = np.array([ [3,-9], [2,4] ])\n",
    "b = np.array([-42,2])"
   ]
  },
  {
   "cell_type": "markdown",
   "metadata": {},
   "source": [
    "Depois, usamos a função linalg.solve() para resolver os valores x e y, assim:"
   ]
  },
  {
   "cell_type": "code",
   "execution_count": 2,
   "metadata": {},
   "outputs": [
    {
     "name": "stdout",
     "output_type": "stream",
     "text": [
      "Os valores de x e y nas equações acima são, respectivamente: -5.0 3.0\n"
     ]
    }
   ],
   "source": [
    "x, y = np.linalg.solve(A,b)\n",
    "print(\"Os valores de x e y nas equações acima são, respectivamente:\", x, y)"
   ]
  },
  {
   "cell_type": "markdown",
   "metadata": {},
   "source": [
    "### Exercício 1 - Resolva o sistema de equações:\n",
    "\n",
    "# 1x + 1y = 35\n",
    "# 2x + 4y = 94"
   ]
  },
  {
   "cell_type": "code",
   "execution_count": 3,
   "metadata": {},
   "outputs": [
    {
     "name": "stdout",
     "output_type": "stream",
     "text": [
      " x =  23.0 \n",
      " y =  12.0\n"
     ]
    }
   ],
   "source": [
    "# Solução\n",
    "import numpy as np\n",
    "\n",
    "A = np.array([[1,1],[2,4]])\n",
    "b = np.array([35,94])\n",
    "\n",
    "x,y = np.linalg.solve(A,b)\n",
    "print (\" x = \", x ,\"\\n y = \", y)"
   ]
  },
  {
   "cell_type": "markdown",
   "metadata": {},
   "source": [
    "### Exercício 2 - Resolva a equação quadrática ax**2 + bx + c = 0 usando a fórmula matemática\n",
    "\n",
    "Dica 1: Solicite ao usuário que digite os valores dos 3 coeficientes da equação (a, b e c) e resolva os valores de x.\n",
    "\n",
    "Dica 2: Use a função sqrt() do pacote math\n",
    "\n",
    "Dica 3: Fique atento aos possíveis retornos da equação:\n",
    "\n",
    "- Se d < 0: Sem solução em ℝ\n",
    "- Se d = 0: A equação tem apenas uma solução em ℝ, x = −b2a\n",
    "- Se d > 0: A equação tem duas soluções, x1 e x2 "
   ]
  },
  {
   "cell_type": "code",
   "execution_count": 15,
   "metadata": {},
   "outputs": [
    {
     "name": "stdout",
     "output_type": "stream",
     "text": [
      "a = 1\n",
      "b = 2\n",
      "c = 1\n",
      "raiz única: -1.0\n"
     ]
    }
   ],
   "source": [
    "# Solução\n",
    "import math\n",
    "\n",
    "def det(a,b,c):\n",
    "    d = b**2 - 4 * a * c\n",
    "    return d\n",
    "\n",
    "a = float(input(\"a = \"))\n",
    "b = float(input(\"b = \"))\n",
    "c = float(input(\"c = \"))\n",
    "\n",
    "d = det(a,b,c)\n",
    "if (d<0):\n",
    "    print (\"Não há raízes reais\")\n",
    "else:\n",
    "    if (d == 0):\n",
    "        r = ((-1) * b + math.sqrt(d)) / (2 * a)\n",
    "        print (\"raiz única:\", r)\n",
    "    else: \n",
    "        r1 = ((-1) * b + math.sqrt(d)) / (2 * a)\n",
    "        r2 = ((-1) * b - math.sqrt(d)) / (2 * a)\n",
    "        print (\"raízes:\", r1, \" e\", r2)\n",
    "\n"
   ]
  },
  {
   "cell_type": "markdown",
   "metadata": {},
   "source": [
    "### Exercício 3 - Resolva a equação quadrática ax**2 + bx + c = 0, criando uma função Python que receba os 3 coeficientes como parâmetro"
   ]
  },
  {
   "cell_type": "code",
   "execution_count": 18,
   "metadata": {},
   "outputs": [
    {
     "name": "stdout",
     "output_type": "stream",
     "text": [
      "a = 1\n",
      "b = 2\n",
      "c = -3\n",
      "raízes da equação: [1.0, -3.0]\n"
     ]
    }
   ],
   "source": [
    "# Solução\n",
    "import math\n",
    "\n",
    "def raizes(a,b,c):    \n",
    "    d = det(a,b,c)\n",
    "    if (d<0):\n",
    "        raizes = []\n",
    "    else:\n",
    "        if (d == 0):\n",
    "            r = ((-1) * b + math.sqrt(d)) / (2 * a)\n",
    "            raizes = [r]\n",
    "        else: \n",
    "            r1 = ((-1) * b + math.sqrt(d)) / (2 * a)\n",
    "            r2 = ((-1) * b - math.sqrt(d)) / (2 * a)\n",
    "            raizes = [r1, r2]\n",
    "    return raizes\n",
    "\n",
    "def det(a,b,c):\n",
    "    d = b**2 - 4 * a * c\n",
    "    return d\n",
    "\n",
    "\n",
    "a = float(input(\"a = \"))\n",
    "b = float(input(\"b = \"))\n",
    "c = float(input(\"c = \"))\n",
    "\n",
    "print (\"raízes da equação:\", raizes(a,b,c))\n"
   ]
  },
  {
   "cell_type": "markdown",
   "metadata": {},
   "source": [
    "### Exercício 4 - Estude as funções matemáticas em Python no link:\n",
    "\n",
    "https://docs.python.org/3.6/library/math.html"
   ]
  },
  {
   "cell_type": "markdown",
   "metadata": {},
   "source": [
    "### Exercício 5 - Crie uma classe em Python para calcular um número elevado ao quadrado\n",
    "\n",
    "Dica: Para testar, instancie a classe em um objeto, passando o número como parâmetro"
   ]
  },
  {
   "cell_type": "code",
   "execution_count": 28,
   "metadata": {},
   "outputs": [
    {
     "name": "stdout",
     "output_type": "stream",
     "text": [
      "Número:13\n",
      "13.0\n",
      "169.0\n"
     ]
    }
   ],
   "source": [
    "# Solução\n",
    "\n",
    "class numero():\n",
    "    \n",
    "    def __init__(self, n):\n",
    "        print(n)\n",
    "        self.valor = float(n)\n",
    "        self.quadrado = n ** 2\n",
    "        \n",
    "nu = float(input(\"Número:\"))\n",
    "num = numero(nu)\n",
    "print (num.quadrado)"
   ]
  },
  {
   "cell_type": "code",
   "execution_count": null,
   "metadata": {},
   "outputs": [],
   "source": []
  },
  {
   "cell_type": "code",
   "execution_count": null,
   "metadata": {},
   "outputs": [],
   "source": []
  },
  {
   "cell_type": "code",
   "execution_count": null,
   "metadata": {},
   "outputs": [],
   "source": []
  },
  {
   "cell_type": "markdown",
   "metadata": {},
   "source": [
    "### Exercício 6 - Crie uma função em Python para resolver a equação quadrática ax**2 + bx + c = 0, aplicando tratamento de erros"
   ]
  },
  {
   "cell_type": "code",
   "execution_count": 30,
   "metadata": {},
   "outputs": [
    {
     "name": "stdout",
     "output_type": "stream",
     "text": [
      "a = d\n",
      "Informe um valor numerico\n",
      "a = 4\n",
      "b = ;\n",
      "Informe um valor numerico\n",
      "b = -5\n",
      "c = *\n",
      "Informe um valor numerico\n",
      "c = 3\n",
      "raízes da equação: []\n"
     ]
    }
   ],
   "source": [
    "# Solução\n",
    "import math\n",
    "\n",
    "def raizes(a,b,c):    \n",
    "    d = det(a,b,c)\n",
    "    if (d<0):\n",
    "        raizes = []\n",
    "    else:\n",
    "        if (d == 0):\n",
    "            r = ((-1) * b + math.sqrt(d)) / (2 * a)\n",
    "            raizes = [r]\n",
    "        else: \n",
    "            r1 = ((-1) * b + math.sqrt(d)) / (2 * a)\n",
    "            r2 = ((-1) * b - math.sqrt(d)) / (2 * a)\n",
    "            raizes = [r1, r2]\n",
    "    return raizes\n",
    "\n",
    "def det(a,b,c):\n",
    "    d = b**2 - 4 * a * c\n",
    "    return d\n",
    "\n",
    "valido = 0\n",
    "while (valido == 0):\n",
    "    try:\n",
    "        a = float(input(\"a = \"))\n",
    "        valido = 1\n",
    "    except:\n",
    "        print(\"Informe um valor numerico\")\n",
    "\n",
    "valido = 0\n",
    "while (valido == 0):\n",
    "    try:\n",
    "        b = float(input(\"b = \"))\n",
    "        valido = 1\n",
    "    except:\n",
    "        print(\"Informe um valor numerico\")\n",
    "\n",
    "valido = 0\n",
    "while (valido == 0):\n",
    "    try:\n",
    "        c = float(input(\"c = \"))\n",
    "        valido = 1\n",
    "    except:\n",
    "        print(\"Informe um valor numerico\")\n",
    "\n",
    "print (\"raízes da equação:\", raizes(a,b,c))\n"
   ]
  },
  {
   "cell_type": "code",
   "execution_count": null,
   "metadata": {},
   "outputs": [],
   "source": []
  },
  {
   "cell_type": "markdown",
   "metadata": {},
   "source": [
    "### Exercício 7 - Crie um Plot com a linha que representa a função linear\n",
    "\n",
    "Dica 1: Função linear y = mx + b  / y = ax + b"
   ]
  },
  {
   "cell_type": "code",
   "execution_count": 14,
   "metadata": {},
   "outputs": [
    {
     "name": "stdout",
     "output_type": "stream",
     "text": [
      "a = 1\n",
      "b = 2\n"
     ]
    },
    {
     "data": {
      "image/png": "[encoded data removed]",
      "text/plain": [
       "<Figure size 432x288 with 1 Axes>"
      ]
     },
     "metadata": {},
     "output_type": "display_data"
    }
   ],
   "source": [
    "# Solução\n",
    "import matplotlib.pyplot as pp\n",
    "\n",
    "valido = 0\n",
    "while (valido == 0):\n",
    "    try:\n",
    "        a = float(input(\"a = \"))\n",
    "        valido = 1\n",
    "    except:\n",
    "        print(\"Informe um valor numerico\")\n",
    "\n",
    "valido = 0\n",
    "while (valido == 0):\n",
    "    try:\n",
    "        b = float(input(\"b = \"))\n",
    "        valido = 1\n",
    "    except:\n",
    "        print(\"Informe um valor numerico\")\n",
    "\n",
    "y0 = (a * -5) + b\n",
    "y1 = (a * 0) + b        \n",
    "y2 = (a * 5) + b\n",
    "        \n",
    "pp.plot([-5,0,5], [y0,y1,y2])\n",
    "pp.grid(True)\n",
    "        "
   ]
  },
  {
   "cell_type": "markdown",
   "metadata": {},
   "source": [
    "### Exercício 8 - Crie um Plot com a Parabola que representa a função quadrática"
   ]
  },
  {
   "cell_type": "code",
   "execution_count": 13,
   "metadata": {},
   "outputs": [
    {
     "name": "stdout",
     "output_type": "stream",
     "text": [
      "a = 1\n",
      "b = 2\n",
      "c = 3\n"
     ]
    },
    {
     "data": {
      "image/png": "[encoded data removed]",
      "text/plain": [
       "<Figure size 432x288 with 1 Axes>"
      ]
     },
     "metadata": {},
     "output_type": "display_data"
    }
   ],
   "source": [
    "# Solução\n",
    "import matplotlib.pyplot as pp\n",
    "import numpy as np\n",
    "\n",
    "import math\n",
    "\n",
    "def raizes(a,b,c):    \n",
    "    d = det(a,b,c)\n",
    "    if (d<0):\n",
    "        raizes = []\n",
    "    else:\n",
    "        if (d == 0):\n",
    "            r = ((-1) * b + math.sqrt(d)) / (2 * a)\n",
    "            raizes = [r]\n",
    "        else: \n",
    "            r1 = ((-1) * b + math.sqrt(d)) / (2 * a)\n",
    "            r2 = ((-1) * b - math.sqrt(d)) / (2 * a)\n",
    "            raizes = [r1, r2]\n",
    "    return raizes\n",
    "\n",
    "def det(a,b,c):\n",
    "    d = b**2 - 4 * a * c\n",
    "    return d\n",
    "\n",
    "valido = 0\n",
    "while (valido == 0):\n",
    "    try:\n",
    "        a = float(input(\"a = \"))\n",
    "        valido = 1\n",
    "    except:\n",
    "        print(\"Informe um valor numerico\")\n",
    "\n",
    "valido = 0\n",
    "while (valido == 0):\n",
    "    try:\n",
    "        b = float(input(\"b = \"))\n",
    "        valido = 1\n",
    "    except:\n",
    "        print(\"Informe um valor numerico\")\n",
    "\n",
    "valido = 0\n",
    "while (valido == 0):\n",
    "    try:\n",
    "        c = float(input(\"c = \"))\n",
    "        valido = 1\n",
    "    except:\n",
    "        print(\"Informe um valor numerico\")\n",
    "\n",
    "r = raizes(a,b,c) #raizes da equacao\n",
    "v = ( (-1) * b ) / ( 2 * a) #vertice da parabola\n",
    "\n",
    "if ((len(r)) == 1 or (len(r)) == 0):\n",
    "    x1 = v - 10\n",
    "    x2 = v + 10\n",
    "else:\n",
    "    x1 = 2 * r[0] - v\n",
    "    x2 = 2 * r[1] - v\n",
    "    \n",
    "x = np.linspace(x1, x2, 1000) #interpola 1000 pontos para plotagem\n",
    "y = a * (x ** 2) + b * x + c\n",
    "\n",
    "fig, ax = pp.subplots()\n",
    "ax.plot(x, y)\n",
    "pp.grid(True)"
   ]
  },
  {
   "cell_type": "markdown",
   "metadata": {},
   "source": [
    "## Desafio - Questões 9 e 10"
   ]
  },
  {
   "cell_type": "markdown",
   "metadata": {},
   "source": [
    "### Exercício 9 - Crie uma função que calcule o slope e o intercepto (coeficientes m e b) da função linear estudada nas aulas anteriores, calcule e desenhe a linha que representa a função\n",
    "\n",
    "Dica 1: Use dados dummy para x e y\n",
    "\n",
    "Dica 2: A fórmula da função linear é y = mx+b"
   ]
  },
  {
   "cell_type": "code",
   "execution_count": 15,
   "metadata": {},
   "outputs": [],
   "source": [
    "# Solução\n",
    "def determinaFuncaoLinear():\n",
    "    valido = 0\n",
    "    while (valido == 0):\n",
    "        try:\n",
    "            x1 = float(input(\"x1 = \"))\n",
    "            valido = 1\n",
    "        except:\n",
    "            print(\"Informe um valor numerico\")\n",
    "    valido = 0\n",
    "    while (valido == 0):\n",
    "        try:\n",
    "            y1 = float(input(\"y1 = \"))\n",
    "            valido = 1\n",
    "        except:\n",
    "            print(\"Informe um valor numerico\")\n",
    "    valido = 0\n",
    "    while (valido == 0):\n",
    "        try:\n",
    "            x2 = float(input(\"x2 = \"))\n",
    "            valido = 1\n",
    "        except:\n",
    "            print(\"Informe um valor numerico\")\n",
    "    valido = 0\n",
    "    while (valido == 0):\n",
    "        try:\n",
    "            y2 = float(input(\"y2 = \"))\n",
    "            valido = 1\n",
    "        except:\n",
    "            print(\"Informe um valor numerico\")            \n",
    "    p1 = [x1,y1]\n",
    "    p2 = [x2,y2]\n",
    "    print(\"As coordenadas base são \", p1, \" e\", p2)\n",
    "    \n",
    "    m = (y2 - y1)/ (x2 - x1)\n",
    "    b = y2 - m * x2\n",
    "    param = [m,b]\n",
    "    return param"
   ]
  },
  {
   "cell_type": "code",
   "execution_count": 18,
   "metadata": {},
   "outputs": [
    {
     "name": "stdout",
     "output_type": "stream",
     "text": [
      "x1 = 1\n",
      "y1 = 4\n",
      "x2 = 4\n",
      "y2 = 1\n",
      "As coordenadas base são  [1.0, 4.0]  e [4.0, 1.0]\n",
      "[-4, -3, -2, -1, 0, 1, 2, 3, 4]\n",
      "[9.0, 8.0, 7.0, 6.0, 5.0, 4.0, 3.0, 2.0, 1.0]\n"
     ]
    }
   ],
   "source": [
    "# Calcula a linha usando list comprehension\n",
    "import numpy as np\n",
    "param = determinaFuncaoLinear()\n",
    "x = [-4, -3, -2, -1, 0, 1, 2, 3, 4]\n",
    "y = [param[0]*n + param[1] for n in x]\n",
    "print(x)\n",
    "print(y)"
   ]
  },
  {
   "cell_type": "code",
   "execution_count": 19,
   "metadata": {},
   "outputs": [
    {
     "data": {
      "image/png": "[encoded data removed]",
      "text/plain": [
       "<Figure size 432x288 with 1 Axes>"
      ]
     },
     "metadata": {},
     "output_type": "display_data"
    }
   ],
   "source": [
    "# Plot \n",
    "x = np.linspace(-4, 4, 1000) #interpola 1000 pontos para plotagem\n",
    "y = param[0]*x + param[1]\n",
    "\n",
    "fig, ax = pp.subplots()\n",
    "ax.plot(x, y)\n",
    "pp.grid(True)"
   ]
  },
  {
   "cell_type": "markdown",
   "metadata": {},
   "source": [
    "### Exercício 10 - Defina um novo valor de x e encontre o y correspondente"
   ]
  },
  {
   "cell_type": "code",
   "execution_count": null,
   "metadata": {},
   "outputs": [],
   "source": [
    "# Solução\n",
    "\n",
    "# Novo valor de x\n"
   ]
  },
  {
   "cell_type": "code",
   "execution_count": null,
   "metadata": {},
   "outputs": [],
   "source": [
    "# Prevendo o valor de y\n"
   ]
  },
  {
   "cell_type": "code",
   "execution_count": null,
   "metadata": {},
   "outputs": [],
   "source": [
    "# Plot\n"
   ]
  },
  {
   "cell_type": "markdown",
   "metadata": {},
   "source": [
    "## Fim"
   ]
  }
 ],
 "metadata": {
  "kernelspec": {
   "display_name": "Python 3",
   "language": "python",
   "name": "python3"
  },
  "language_info": {
   "codemirror_mode": {
    "name": "ipython",
    "version": 3
   },
   "file_extension": ".py",
   "mimetype": "text/x-python",
   "name": "python",
   "nbconvert_exporter": "python",
   "pygments_lexer": "ipython3",
   "version": "3.6.5"
  }
 },
 "nbformat": 4,
 "nbformat_minor": 2
}

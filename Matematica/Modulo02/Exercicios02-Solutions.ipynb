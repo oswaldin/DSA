{
 "cells": [
  {
   "cell_type": "markdown",
   "metadata": {},
   "source": [
    "# <font color='blue'>Data Science Academy</font>\n",
    "# <font color='blue'>Matemática Para Machine Learning</font>"
   ]
  },
  {
   "cell_type": "markdown",
   "metadata": {},
   "source": [
    "## Lista de Exercícios  - Capítulo 2"
   ]
  },
  {
   "cell_type": "markdown",
   "metadata": {},
   "source": [
    "O objetivo desta lista de exercícios é você praticar os principais conceitos estudados neste capítulo, ao mesmo tempo que desenvolve suas habilidades em lógica de programação com a linguagem Python. \n",
    "\n",
    "Caso tenha dúvidas, isso é absolutamente normal e faça um trabalho de pesquisa a fim de relembrar o formato das operações matemáticas.\n",
    "\n",
    "Quando encontrar o formato de uma operação que resolva o exercício proposto, use a linguagem Python para representar esta operação. Em essência, é assim que aplicamos Matemática Para Machine Learning, construindo algoritmos e representando esses algoritmos em linguagem de programação.\n",
    "\n",
    "Divirta-se!!"
   ]
  },
  {
   "cell_type": "markdown",
   "metadata": {},
   "source": [
    "## Resolvendo Sistemas de Equações em Python"
   ]
  },
  {
   "cell_type": "markdown",
   "metadata": {},
   "source": [
    "Usando numpy, podemos resolver sistemas de equações em Python. Cada equação em um sistema pode ser representada com matrizes. Por exemplo, se tivermos a equação 3x - 9y = -42, ela pode ser representada como [3, -9] e [-42]. Se adicionarmos outra equação, por exemplo, 2x + 4y = 2, podemos mesclar com a equação anterior para obter [[3, -9], [2, 4]] e [-42, 2]. Agora vamos resolver os valores x e y.\n",
    "\n",
    "Primeiro, colocamos essas equações em matrizes numpy:"
   ]
  },
  {
   "cell_type": "code",
   "execution_count": 1,
   "metadata": {},
   "outputs": [],
   "source": [
    "import numpy as np\n",
    "\n",
    "A = np.array([ [3,-9], [2,4] ])\n",
    "b = np.array([-42,2])"
   ]
  },
  {
   "cell_type": "markdown",
   "metadata": {},
   "source": [
    "Depois, usamos a função linalg.solve() para resolver os valores x e y, assim:"
   ]
  },
  {
   "cell_type": "code",
   "execution_count": 2,
   "metadata": {},
   "outputs": [
    {
     "name": "stdout",
     "output_type": "stream",
     "text": [
      "Os valores de x e y nas equações acima são, respectivamente: -5.0 3.0\n"
     ]
    }
   ],
   "source": [
    "x, y = np.linalg.solve(A,b)\n",
    "print(\"Os valores de x e y nas equações acima são, respectivamente:\", x, y)"
   ]
  },
  {
   "cell_type": "markdown",
   "metadata": {},
   "source": [
    "### Exercício 1 - Resolva o sistema de equações:\n",
    "\n",
    "# 1x + 1y = 35\n",
    "# 2x + 4y = 94"
   ]
  },
  {
   "cell_type": "code",
   "execution_count": 3,
   "metadata": {},
   "outputs": [
    {
     "name": "stdout",
     "output_type": "stream",
     "text": [
      "Os valores de x e y nas equações acima são, respectivamente: 23.0 12.0\n"
     ]
    }
   ],
   "source": [
    "# Solução\n",
    "\n",
    "expressao1 = np.array([[1, 1],[2,4]])\n",
    "expressao2 = np.array([35, 94])\n",
    "\n",
    "x, y = np.linalg.solve(expressao1, expressao2)\n",
    "print(\"Os valores de x e y nas equações acima são, respectivamente:\", x, y)"
   ]
  },
  {
   "cell_type": "markdown",
   "metadata": {},
   "source": [
    "### Exercício 2 - Resolva a equação quadrática ax**2 + bx + c = 0 usando a fórmula matemática\n",
    "\n",
    "Dica 1: Solicite ao usuário que digite os valores dos 3 coeficientes da equação (a, b e c) e resolva os valores de x.\n",
    "\n",
    "Dica 2: Use a função sqrt() do pacote math\n",
    "\n",
    "Dica 3: Fique atento aos possíveis retornos da equação:\n",
    "\n",
    "- Se d < 0: Sem solução em ℝ\n",
    "- Se d = 0: A equação tem apenas uma solução em ℝ, x = −b2a\n",
    "- Se d > 0: A equação tem duas soluções, x1 e x2 "
   ]
  },
  {
   "cell_type": "code",
   "execution_count": 4,
   "metadata": {},
   "outputs": [
    {
     "name": "stdout",
     "output_type": "stream",
     "text": [
      "Vou resolver a equação quadrática ax^2 + bx + c = 0. Digite os valores de a, b e c:\n",
      "\n",
      "a = 1\n",
      "b = 9\n",
      "c = 8\n",
      "A equação tem duas soluções:  -1.0 or -8.0\n"
     ]
    }
   ],
   "source": [
    "# Solução\n",
    "\n",
    "import math\n",
    " \n",
    "print('Vou resolver a equação quadrática ax^2 + bx + c = 0. Digite os valores de a, b e c:\\n')\n",
    " \n",
    "a = int(input('a = '))\n",
    "b = int(input('b = '))\n",
    "c = int(input('c = '))\n",
    " \n",
    "d = b**2-4*a*c\n",
    " \n",
    "if d < 0:\n",
    "    print('A equação não tem solução real.')\n",
    "elif d == 0:\n",
    "    x = (-b)/(2*a)\n",
    "    print('A equação tem uma solução: ',x)\n",
    "else:\n",
    "    x1 = (-b+math.sqrt(d))/(2*a)\n",
    "    x2 = (-b-math.sqrt(d))/(2*a)\n",
    "    print('A equação tem duas soluções: ',x1, 'or', x2)"
   ]
  },
  {
   "cell_type": "markdown",
   "metadata": {},
   "source": [
    "### Exercício 3 - Resolva a equação quadrática ax**2 + bx + c = 0, criando uma função Python que receba os 3 coeficientes como parâmetro"
   ]
  },
  {
   "cell_type": "code",
   "execution_count": 5,
   "metadata": {},
   "outputs": [
    {
     "data": {
      "text/plain": [
       "(-1.0, -8.0)"
      ]
     },
     "execution_count": 5,
     "metadata": {},
     "output_type": "execute_result"
    }
   ],
   "source": [
    "# Solução\n",
    "\n",
    "import math\n",
    "\n",
    "def solvequadratic(a,b,c):\n",
    "    return(((-1*b)+math.sqrt(b**2-4*a*c))/2*a),(((-1*b)-math.sqrt((b**2)-4*(a)*(c)))/2*a)\n",
    "\n",
    "solvequadratic(1, 9, 8)"
   ]
  },
  {
   "cell_type": "markdown",
   "metadata": {},
   "source": [
    "### Exercício 4 - Estude as funções matemáticas em Python no link:\n",
    "\n",
    "https://docs.python.org/3.6/library/math.html"
   ]
  },
  {
   "cell_type": "markdown",
   "metadata": {},
   "source": [
    "### Exercício 5 - Crie uma classe em Python para calcular um número elevado ao quadrado\n",
    "\n",
    "Dica: Para testar, instancie a classe em um objeto, passando o número como parâmetro"
   ]
  },
  {
   "cell_type": "code",
   "execution_count": 6,
   "metadata": {},
   "outputs": [],
   "source": [
    "# Solução\n",
    "\n",
    "class MathFunction(object):\n",
    "    def __init__(self, code):\n",
    "        self.code = code\n",
    "        self._func = eval(\"lambda x: \" + code)\n",
    "    def __call__(self, arg):\n",
    "        return self._func(arg)\n",
    "    def __repr__(self):\n",
    "        return \"f(x) = \" + self.code"
   ]
  },
  {
   "cell_type": "code",
   "execution_count": 7,
   "metadata": {},
   "outputs": [],
   "source": [
    "sq = MathFunction(\"x**2\")"
   ]
  },
  {
   "cell_type": "code",
   "execution_count": 8,
   "metadata": {},
   "outputs": [
    {
     "data": {
      "text/plain": [
       "f(x) = x**2"
      ]
     },
     "execution_count": 8,
     "metadata": {},
     "output_type": "execute_result"
    }
   ],
   "source": [
    "sq"
   ]
  },
  {
   "cell_type": "code",
   "execution_count": 9,
   "metadata": {},
   "outputs": [
    {
     "data": {
      "text/plain": [
       "49"
      ]
     },
     "execution_count": 9,
     "metadata": {},
     "output_type": "execute_result"
    }
   ],
   "source": [
    "sq(7)"
   ]
  },
  {
   "cell_type": "markdown",
   "metadata": {},
   "source": [
    "### Exercício 6 - Crie uma função em Python para resolver a equação quadrática ax**2 + bx + c = 0, aplicando tratamento de erros"
   ]
  },
  {
   "cell_type": "code",
   "execution_count": 10,
   "metadata": {},
   "outputs": [],
   "source": [
    "# Solução\n",
    "\n",
    "from numpy import linalg\n",
    "from numpy import array\n",
    "from math import sqrt\n",
    "\n",
    "class NoRootsError(Exception):\n",
    "    pass\n",
    "class NoRationalNumbersError(Exception):\n",
    "    pass\n",
    "class NotQuadraticError(Exception):\n",
    "    pass\n",
    "\n",
    "def returnX(a,b,c):\n",
    "  if a==0:\n",
    "    raise NotQuadraticError\n",
    "  if b**2-4*a*c < 0:\n",
    "    raise NoRootsError\n",
    "  try:\n",
    "    first_solution = (-b + sqrt(b**2-4*a*c))/2*a\n",
    "    second_solution = (-b - sqrt(b**2-4*a*c))/2*a\n",
    "    return (first_solution,second_solution)\n",
    "  except ValueError:\n",
    "    raise NoRationalNumbersError"
   ]
  },
  {
   "cell_type": "code",
   "execution_count": 11,
   "metadata": {},
   "outputs": [
    {
     "data": {
      "text/plain": [
       "(-1.0, -8.0)"
      ]
     },
     "execution_count": 11,
     "metadata": {},
     "output_type": "execute_result"
    }
   ],
   "source": [
    "returnX(1, 9, 8)"
   ]
  },
  {
   "cell_type": "markdown",
   "metadata": {},
   "source": [
    "### Exercício 7 - Crie um Plot com a linha que representa a função linear\n",
    "\n",
    "Dica 1: Função linear y = mx + b  / y = ax + b"
   ]
  },
  {
   "cell_type": "code",
   "execution_count": 12,
   "metadata": {},
   "outputs": [
    {
     "data": {
      "image/png": "[encoded data removed]",
      "text/plain": [
       "<Figure size 432x288 with 1 Axes>"
      ]
     },
     "metadata": {},
     "output_type": "display_data"
    }
   ],
   "source": [
    "# Solução\n",
    "\n",
    "import numpy as np \n",
    "import matplotlib.pyplot as plt\n",
    "%matplotlib inline\n",
    "\n",
    "A1 = 2\n",
    "B2 = 7\n",
    "\n",
    "x = np.linspace(-100.,100.)\n",
    "\n",
    "fig,ax = plt.subplots()\n",
    "\n",
    "ax.plot(x, A1 * x + B2)\n",
    "\n",
    "\n",
    "ax.set_xlim((-100.,100.))\n",
    "ax.set_ylim((-100.,100.))\n",
    "\n",
    "plt.show()\n"
   ]
  },
  {
   "cell_type": "markdown",
   "metadata": {},
   "source": [
    "### Exercício 8 - Crie um Plot com a Parabola que representa a função quadrática"
   ]
  },
  {
   "cell_type": "code",
   "execution_count": 13,
   "metadata": {},
   "outputs": [
    {
     "data": {
      "image/png": "[encoded data removed]",
      "text/plain": [
       "<Figure size 432x288 with 1 Axes>"
      ]
     },
     "metadata": {},
     "output_type": "display_data"
    }
   ],
   "source": [
    "# Solução\n",
    "\n",
    "import matplotlib.pyplot as plt\n",
    "%matplotlib inline\n",
    "\n",
    "a=[]\n",
    "b=[]\n",
    "\n",
    "for x in range(-50,50,1):\n",
    "    y = x ** 2 + 2 * x + 2\n",
    "    a.append(x)\n",
    "    b.append(y)\n",
    "    \n",
    "fig= plt.figure()\n",
    "axes=fig.add_subplot(111)\n",
    "axes.plot(a,b)\n",
    "plt.show()"
   ]
  },
  {
   "cell_type": "markdown",
   "metadata": {},
   "source": [
    "## Desafio - Questões 9 e 10"
   ]
  },
  {
   "cell_type": "markdown",
   "metadata": {},
   "source": [
    "### Exercício 9 - Crie uma função que calcule o slope e o intercepto (coeficientes m e b) da função linear estudada nas aulas anteriores, calcule e desenhe a linha que representa a função\n",
    "\n",
    "Dica 1: Use dados dummy para x e y\n",
    "\n",
    "Dica 2: A fórmula da função linear é y = mx+b"
   ]
  },
  {
   "cell_type": "code",
   "execution_count": 14,
   "metadata": {},
   "outputs": [
    {
     "name": "stdout",
     "output_type": "stream",
     "text": [
      "0.3 4.3\n"
     ]
    }
   ],
   "source": [
    "# Solução\n",
    "\n",
    "from statistics import mean\n",
    "import numpy as np\n",
    "\n",
    "xs = np.array([1,2,3,4,5], dtype=np.float64)\n",
    "ys = np.array([5,4,6,5,6], dtype=np.float64)\n",
    "\n",
    "def best_fit_slope_and_intercept(xs,ys):\n",
    "    m = (((mean(xs)*mean(ys)) - mean(xs*ys)) / ((mean(xs)*mean(xs)) - mean(xs*xs)))\n",
    "    \n",
    "    b = mean(ys) - m*mean(xs)\n",
    "    \n",
    "    return m, b\n",
    "\n",
    "m, b = best_fit_slope_and_intercept(xs,ys)\n",
    "\n",
    "print(round(m, 2), round(b,2))"
   ]
  },
  {
   "cell_type": "code",
   "execution_count": 15,
   "metadata": {},
   "outputs": [],
   "source": [
    "# Calcula a linha usando list comprehension\n",
    "line = [(m*x)+b for x in xs]"
   ]
  },
  {
   "cell_type": "code",
   "execution_count": 16,
   "metadata": {},
   "outputs": [
    {
     "data": {
      "image/png": "[encoded data removed]",
      "text/plain": [
       "<Figure size 432x288 with 1 Axes>"
      ]
     },
     "metadata": {},
     "output_type": "display_data"
    }
   ],
   "source": [
    "# Plot \n",
    "import matplotlib.pyplot as plt\n",
    "from matplotlib import style\n",
    "style.use('ggplot')\n",
    "\n",
    "plt.scatter(xs,ys,color='#003F72')\n",
    "plt.plot(xs, line)\n",
    "plt.show()"
   ]
  },
  {
   "cell_type": "markdown",
   "metadata": {},
   "source": [
    "### Exercício 10 - Defina um novo valor de x e encontre o y correspondente"
   ]
  },
  {
   "cell_type": "code",
   "execution_count": 17,
   "metadata": {},
   "outputs": [],
   "source": [
    "# Solução\n",
    "\n",
    "# Novo valor de x\n",
    "predict_x = 7"
   ]
  },
  {
   "cell_type": "code",
   "execution_count": 18,
   "metadata": {},
   "outputs": [
    {
     "name": "stdout",
     "output_type": "stream",
     "text": [
      "6.399999999999996\n"
     ]
    }
   ],
   "source": [
    "# Prevendo o valor de y\n",
    "predict_y = (m*predict_x)+b\n",
    "print(predict_y)"
   ]
  },
  {
   "cell_type": "code",
   "execution_count": 19,
   "metadata": {},
   "outputs": [
    {
     "data": {
      "image/png": "[encoded data removed]",
      "text/plain": [
       "<Figure size 432x288 with 1 Axes>"
      ]
     },
     "metadata": {},
     "output_type": "display_data"
    }
   ],
   "source": [
    "# Plot\n",
    "predict_x = 7\n",
    "predict_y = (m*predict_x)+b\n",
    "\n",
    "plt.scatter(xs,ys,color='#003F72',label='Dados')\n",
    "plt.plot(xs, line, label='Linha de regressão (Previsões)')\n",
    "plt.legend(loc=4)\n",
    "plt.show()"
   ]
  },
  {
   "cell_type": "markdown",
   "metadata": {},
   "source": [
    "## Fim"
   ]
  }
 ],
 "metadata": {
  "kernelspec": {
   "display_name": "Python 3",
   "language": "python",
   "name": "python3"
  },
  "language_info": {
   "codemirror_mode": {
    "name": "ipython",
    "version": 3
   },
   "file_extension": ".py",
   "mimetype": "text/x-python",
   "name": "python",
   "nbconvert_exporter": "python",
   "pygments_lexer": "ipython3",
   "version": "3.6.5"
  }
 },
 "nbformat": 4,
 "nbformat_minor": 2
}
